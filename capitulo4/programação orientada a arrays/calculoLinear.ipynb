{
 "cells": [
  {
   "cell_type": "code",
   "execution_count": 7,
   "metadata": {},
   "outputs": [],
   "source": [
    "import numpy as np\n",
    "from numpy.linalg import inv, qr"
   ]
  },
  {
   "cell_type": "code",
   "execution_count": 8,
   "metadata": {},
   "outputs": [
    {
     "name": "stdout",
     "output_type": "stream",
     "text": [
      "[[1. 2. 3.]\n",
      " [4. 5. 6.]]\n",
      "[[ 6. 23.]\n",
      " [-1.  7.]\n",
      " [ 8.  9.]]\n"
     ]
    }
   ],
   "source": [
    "x = np.array([[1., 2., 3.], [4., 5., 6.]])\n",
    "y = np.array([[6., 23], [-1, 7], [8, 9]])\n",
    "\n",
    "print(x)\n",
    "print(y)"
   ]
  },
  {
   "cell_type": "code",
   "execution_count": 9,
   "metadata": {},
   "outputs": [
    {
     "data": {
      "text/plain": [
       "array([[ 28.,  64.],\n",
       "       [ 67., 181.]])"
      ]
     },
     "execution_count": 9,
     "metadata": {},
     "output_type": "execute_result"
    }
   ],
   "source": [
    "x.dot(y)"
   ]
  },
  {
   "cell_type": "code",
   "execution_count": 10,
   "metadata": {},
   "outputs": [
    {
     "data": {
      "text/plain": [
       "array([ 6., 15.])"
      ]
     },
     "execution_count": 10,
     "metadata": {},
     "output_type": "execute_result"
    }
   ],
   "source": [
    "np.dot(x, np.ones(3))"
   ]
  },
  {
   "cell_type": "code",
   "execution_count": 11,
   "metadata": {},
   "outputs": [
    {
     "data": {
      "text/plain": [
       "array([[ 1.65615072, -0.76358309,  2.94144756, -0.95891429, -0.44254799],\n",
       "       [-0.76358309,  0.87201911, -1.64937843,  0.51036671,  0.27296057],\n",
       "       [ 2.94144756, -1.64937843,  5.85857065, -1.87333302, -0.92328993],\n",
       "       [-0.95891429,  0.51036671, -1.87333302,  1.21801101,  0.86867469],\n",
       "       [-0.44254799,  0.27296057, -0.92328993,  0.86867469,  0.8353259 ]])"
      ]
     },
     "execution_count": 11,
     "metadata": {},
     "output_type": "execute_result"
    }
   ],
   "source": [
    "X = np.random.randn(5, 5)\n",
    "mat = X.T.dot(X)\n",
    "inv(mat)"
   ]
  },
  {
   "cell_type": "code",
   "execution_count": 12,
   "metadata": {},
   "outputs": [
    {
     "data": {
      "text/plain": [
       "array([[ 1.00000000e+00,  3.88433736e-16, -2.74618968e-15,\n",
       "        -1.66552342e-16, -1.95437988e-16],\n",
       "       [ 4.02453696e-16,  1.00000000e+00,  1.24710549e-15,\n",
       "        -5.12542811e-16, -1.01377838e-16],\n",
       "       [-5.02271026e-16, -2.57071970e-16,  1.00000000e+00,\n",
       "         5.33992339e-16,  7.94957376e-16],\n",
       "       [-7.76827864e-17,  1.30121014e-16,  2.76000472e-16,\n",
       "         1.00000000e+00,  5.30841359e-16],\n",
       "       [-1.10678301e-16,  3.10389569e-16, -6.76790757e-16,\n",
       "         9.94373143e-16,  1.00000000e+00]])"
      ]
     },
     "execution_count": 12,
     "metadata": {},
     "output_type": "execute_result"
    }
   ],
   "source": [
    "mat.dot(inv(mat))"
   ]
  },
  {
   "cell_type": "code",
   "execution_count": 16,
   "metadata": {},
   "outputs": [
    {
     "data": {
      "text/plain": [
       "array([[-7.24642029,  1.49394216,  3.58331592, -3.37300719,  3.35986617],\n",
       "       [ 0.        , -2.65166495, -1.40261137, -3.52117834,  3.22028172],\n",
       "       [ 0.        ,  0.        , -1.53802281, -8.41214703,  7.60846949],\n",
       "       [ 0.        ,  0.        ,  0.        , -1.45416668,  2.3022102 ],\n",
       "       [ 0.        ,  0.        ,  0.        ,  0.        ,  0.6231545 ]])"
      ]
     },
     "execution_count": 16,
     "metadata": {},
     "output_type": "execute_result"
    }
   ],
   "source": [
    "q, r = qr(mat)\n",
    "r"
   ]
  }
 ],
 "metadata": {
  "kernelspec": {
   "display_name": "Python 3",
   "language": "python",
   "name": "python3"
  },
  "language_info": {
   "codemirror_mode": {
    "name": "ipython",
    "version": 3
   },
   "file_extension": ".py",
   "mimetype": "text/x-python",
   "name": "python",
   "nbconvert_exporter": "python",
   "pygments_lexer": "ipython3",
   "version": "3.11.0"
  },
  "orig_nbformat": 4
 },
 "nbformat": 4,
 "nbformat_minor": 2
}
