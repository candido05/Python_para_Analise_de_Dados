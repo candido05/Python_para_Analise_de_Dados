{
 "cells": [
  {
   "cell_type": "code",
   "execution_count": 14,
   "metadata": {},
   "outputs": [
    {
     "data": {
      "text/plain": [
       "array([-0.1159986 ,  1.2743659 , -0.09810975, -1.78788818, -0.79193469,\n",
       "       -1.28746753])"
      ]
     },
     "execution_count": 14,
     "metadata": {},
     "output_type": "execute_result"
    }
   ],
   "source": [
    "import numpy as np\n",
    "\n",
    "arr = np.random.randn(6)\n",
    "arr"
   ]
  },
  {
   "cell_type": "code",
   "execution_count": 15,
   "metadata": {},
   "outputs": [
    {
     "data": {
      "text/plain": [
       "array([-1.78788818, -1.28746753, -0.79193469, -0.1159986 , -0.09810975,\n",
       "        1.2743659 ])"
      ]
     },
     "execution_count": 15,
     "metadata": {},
     "output_type": "execute_result"
    }
   ],
   "source": [
    "arr.sort()\n",
    "arr"
   ]
  },
  {
   "cell_type": "code",
   "execution_count": 16,
   "metadata": {},
   "outputs": [
    {
     "data": {
      "text/plain": [
       "array([[ 1.08470427, -1.36374   , -0.46270233],\n",
       "       [-1.76230825, -1.98283685,  0.52788317],\n",
       "       [ 0.13576485, -0.94994511,  0.79084586],\n",
       "       [ 0.54020952,  0.69943089, -1.04159374],\n",
       "       [ 0.68334442,  0.49153343,  1.06193386]])"
      ]
     },
     "execution_count": 16,
     "metadata": {},
     "output_type": "execute_result"
    }
   ],
   "source": [
    "arr2 = np.random.randn(5, 3)\n",
    "arr2"
   ]
  },
  {
   "cell_type": "code",
   "execution_count": 17,
   "metadata": {},
   "outputs": [
    {
     "data": {
      "text/plain": [
       "array([[-1.36374   , -0.46270233,  1.08470427],\n",
       "       [-1.98283685, -1.76230825,  0.52788317],\n",
       "       [-0.94994511,  0.13576485,  0.79084586],\n",
       "       [-1.04159374,  0.54020952,  0.69943089],\n",
       "       [ 0.49153343,  0.68334442,  1.06193386]])"
      ]
     },
     "execution_count": 17,
     "metadata": {},
     "output_type": "execute_result"
    }
   ],
   "source": [
    "arr2.sort(1)\n",
    "arr2"
   ]
  }
 ],
 "metadata": {
  "kernelspec": {
   "display_name": "Python 3",
   "language": "python",
   "name": "python3"
  },
  "language_info": {
   "codemirror_mode": {
    "name": "ipython",
    "version": 3
   },
   "file_extension": ".py",
   "mimetype": "text/x-python",
   "name": "python",
   "nbconvert_exporter": "python",
   "pygments_lexer": "ipython3",
   "version": "3.11.0"
  },
  "orig_nbformat": 4
 },
 "nbformat": 4,
 "nbformat_minor": 2
}
