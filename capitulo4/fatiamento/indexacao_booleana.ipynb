{
 "cells": [
  {
   "cell_type": "code",
   "execution_count": 17,
   "metadata": {},
   "outputs": [
    {
     "name": "stdout",
     "output_type": "stream",
     "text": [
      "['Bob' 'Joe' 'Will' 'Bob' 'Will' 'Joe' 'Joe']\n"
     ]
    }
   ],
   "source": [
    "import numpy as np\n",
    "\n",
    "names = np.array(['Bob', 'Joe', 'Will', 'Bob', 'Will', 'Joe', 'Joe'])\n",
    "data = np.random.randn(7, 4)\n",
    "print(names)"
   ]
  },
  {
   "cell_type": "code",
   "execution_count": 18,
   "metadata": {},
   "outputs": [
    {
     "name": "stdout",
     "output_type": "stream",
     "text": [
      "[[-0.36025569 -0.21082572  0.81441152 -1.40615093]\n",
      " [ 0.25564022 -1.8462204   0.33736547 -1.01890134]\n",
      " [ 0.97102276  1.57655271 -1.59386074  0.01337086]\n",
      " [ 1.60728559  0.3506375   1.07086158  1.84385424]\n",
      " [ 0.15633737 -0.61346228 -0.93733076  1.41655717]\n",
      " [-0.30050665 -0.86191981 -0.57937188 -0.30592719]\n",
      " [-0.70706472 -0.82082658  1.18816166  3.11873225]]\n"
     ]
    }
   ],
   "source": [
    "print(data)"
   ]
  },
  {
   "cell_type": "code",
   "execution_count": 20,
   "metadata": {},
   "outputs": [
    {
     "name": "stdout",
     "output_type": "stream",
     "text": [
      "[ True False False  True False False False]\n",
      "[[-0.36025569 -0.21082572  0.81441152 -1.40615093]\n",
      " [ 1.60728559  0.3506375   1.07086158  1.84385424]]\n"
     ]
    }
   ],
   "source": [
    "print(names == 'Bob')\n",
    "print(data[names == 'Bob'])\n"
   ]
  },
  {
   "cell_type": "code",
   "execution_count": 22,
   "metadata": {},
   "outputs": [
    {
     "name": "stdout",
     "output_type": "stream",
     "text": [
      "[[ 0.81441152 -1.40615093]\n",
      " [ 1.07086158  1.84385424]]\n",
      "[[ 0.25564022 -1.8462204   0.33736547 -1.01890134]\n",
      " [ 0.97102276  1.57655271 -1.59386074  0.01337086]\n",
      " [ 0.15633737 -0.61346228 -0.93733076  1.41655717]\n",
      " [-0.30050665 -0.86191981 -0.57937188 -0.30592719]\n",
      " [-0.70706472 -0.82082658  1.18816166  3.11873225]]\n"
     ]
    }
   ],
   "source": [
    "print(data[names == 'Bob', 2:])\n",
    "print(data[~(names == 'Bob')])"
   ]
  },
  {
   "cell_type": "code",
   "execution_count": 31,
   "metadata": {},
   "outputs": [
    {
     "name": "stdout",
     "output_type": "stream",
     "text": [
      "[[7.         7.         7.         7.        ]\n",
      " [0.25564022 0.         0.33736547 0.        ]\n",
      " [7.         7.         7.         7.        ]\n",
      " [7.         7.         7.         7.        ]\n",
      " [7.         7.         7.         7.        ]\n",
      " [0.         0.         0.         0.        ]\n",
      " [0.         0.         1.18816166 3.11873225]]\n"
     ]
    }
   ],
   "source": [
    "data[data < 0] = 0\n",
    "print(data)"
   ]
  },
  {
   "cell_type": "code",
   "execution_count": 30,
   "metadata": {},
   "outputs": [
    {
     "name": "stdout",
     "output_type": "stream",
     "text": [
      "[[7.         7.         7.         7.        ]\n",
      " [0.25564022 0.         0.33736547 0.        ]\n",
      " [7.         7.         7.         7.        ]\n",
      " [7.         7.         7.         7.        ]\n",
      " [7.         7.         7.         7.        ]\n",
      " [0.         0.         0.         0.        ]\n",
      " [0.         0.         1.18816166 3.11873225]]\n"
     ]
    }
   ],
   "source": [
    "data[names != 'Joe'] = 7\n",
    "print(data)"
   ]
  }
 ],
 "metadata": {
  "kernelspec": {
   "display_name": "Python 3",
   "language": "python",
   "name": "python3"
  },
  "language_info": {
   "codemirror_mode": {
    "name": "ipython",
    "version": 3
   },
   "file_extension": ".py",
   "mimetype": "text/x-python",
   "name": "python",
   "nbconvert_exporter": "python",
   "pygments_lexer": "ipython3",
   "version": "3.11.0"
  },
  "orig_nbformat": 4
 },
 "nbformat": 4,
 "nbformat_minor": 2
}
