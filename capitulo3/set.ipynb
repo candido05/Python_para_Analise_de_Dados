{
 "cells": [
  {
   "cell_type": "code",
   "execution_count": 8,
   "metadata": {},
   "outputs": [
    {
     "name": "stdout",
     "output_type": "stream",
     "text": [
      "{1, 2, 3, 4, 5, 6, 7, 8}\n",
      "{1, 2, 3, 4, 5, 6, 7, 8}\n",
      "{3, 4, 5, 6}\n",
      "{3, 4, 5, 6}\n",
      "{1, 2, 3, 4, 5, 6}\n"
     ]
    }
   ],
   "source": [
    "set([2, 2, 2, 1, 3, 3])\n",
    "\n",
    "a = {1, 2, 3, 4, 5, 6}\n",
    "b = {3, 4, 5, 6, 7, 8}\n",
    "\n",
    "#UNIAO\n",
    "print(a.union(b))\n",
    "print(a|b)\n",
    "\n",
    "#INTERSECÇÃO\n",
    "print(a.intersection(b))\n",
    "print(a&b)\n",
    "\n",
    "c = a.copy()\n",
    "print(c)"
   ]
  },
  {
   "cell_type": "code",
   "execution_count": 16,
   "metadata": {},
   "outputs": [
    {
     "name": "stdout",
     "output_type": "stream",
     "text": [
      "{(1, 2, 3, 4, 5)}\n",
      "True\n",
      "False\n"
     ]
    },
    {
     "data": {
      "text/plain": [
       "True"
      ]
     },
     "execution_count": 16,
     "metadata": {},
     "output_type": "execute_result"
    }
   ],
   "source": [
    "numeros = [1, 2, 3, 4, 5]\n",
    "numeros_set = {tuple(numeros)}\n",
    "\n",
    "print(numeros_set)\n",
    "\n",
    "a_set = {0, 1, 2, 3, 4, 5, 6, 7, 8, 9}\n",
    "print({1, 2, 3}.issubset(a_set))\n",
    "print(a_set.issubset({10, 20, 5}))\n",
    "\n",
    "{1, 2, 3} == {3, 2, 1}"
   ]
  }
 ],
 "metadata": {
  "kernelspec": {
   "display_name": "Python 3",
   "language": "python",
   "name": "python3"
  },
  "language_info": {
   "codemirror_mode": {
    "name": "ipython",
    "version": 3
   },
   "file_extension": ".py",
   "mimetype": "text/x-python",
   "name": "python",
   "nbconvert_exporter": "python",
   "pygments_lexer": "ipython3",
   "version": "3.11.0"
  },
  "orig_nbformat": 4,
  "vscode": {
   "interpreter": {
    "hash": "c261aea317cc0286b3b3261fbba9abdec21eaa57589985bb7a274bf54d6cc0a7"
   }
  }
 },
 "nbformat": 4,
 "nbformat_minor": 2
}
