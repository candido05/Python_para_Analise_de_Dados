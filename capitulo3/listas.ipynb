{
 "cells": [
  {
   "cell_type": "code",
   "execution_count": 2,
   "metadata": {},
   "outputs": [
    {
     "name": "stdout",
     "output_type": "stream",
     "text": [
      "['aula', 'livro', 'roupa']\n",
      "['aula', 'computador', 'roupa']\n"
     ]
    }
   ],
   "source": [
    "a_list = [2, 3, 4, None]\n",
    "tup = ('aula', 'livro', 'roupa')\n",
    "\n",
    "b_list = list(tup)\n",
    "print(b_list)\n",
    "\n",
    "b_list[1] = 'computador'\n",
    "print(b_list)"
   ]
  },
  {
   "cell_type": "code",
   "execution_count": 3,
   "metadata": {},
   "outputs": [
    {
     "name": "stdout",
     "output_type": "stream",
     "text": [
      "range(0, 11)\n",
      "[0, 1, 2, 3, 4, 5, 6, 7, 8, 9, 10]\n"
     ]
    }
   ],
   "source": [
    "gen = range(11)\n",
    "print(gen)\n",
    "print(list(gen))"
   ]
  },
  {
   "cell_type": "code",
   "execution_count": 29,
   "metadata": {},
   "outputs": [
    {
     "name": "stdout",
     "output_type": "stream",
     "text": [
      "['aula', 'livro', 'roupa', 'caderno']\n",
      "['aula', 'faculdade', 'livro', 'roupa', 'caderno']\n",
      "['aula', 'faculdade', 'livro', 'caderno']\n",
      "['aula', 'faculdade', 'livro']\n",
      "['aula', 'faculdade', 'livro', 'projetos']\n",
      "True\n",
      "False\n"
     ]
    }
   ],
   "source": [
    "tup2 = ('aula', 'livro', 'roupa')\n",
    "\n",
    "c_list = list(tup2)\n",
    "\n",
    "c_list.append('caderno')\n",
    "print(c_list)\n",
    "\n",
    "c_list.insert(1, 'faculdade')\n",
    "print(c_list)\n",
    "\n",
    "c_list.pop(3)\n",
    "print(c_list)\n",
    "\n",
    "c_list.remove('caderno')\n",
    "print(c_list)\n",
    "\n",
    "c_list.append('projetos')\n",
    "print(c_list)\n",
    "\n",
    "print('livro' in c_list)\n",
    "print('caderno' in c_list)"
   ]
  },
  {
   "cell_type": "code",
   "execution_count": 40,
   "metadata": {},
   "outputs": [
    {
     "name": "stdout",
     "output_type": "stream",
     "text": [
      "[7, 0.25, 9, 'sorte', 'amora', None, 'm', 'carro', 8, 9]\n",
      "[7, 0.25, 9, 'sorte', 'amora', 8, 10, None]\n"
     ]
    }
   ],
   "source": [
    "lista1 = [7, 0.25, 9, 'sorte', 'amora']\n",
    "lista2 = [None, 'm', 'carro', 8, 9]\n",
    "\n",
    "print(lista1 + lista2)\n",
    "\n",
    "lista1.extend([8, 10, None])\n",
    "print(lista1)"
   ]
  },
  {
   "cell_type": "code",
   "execution_count": 44,
   "metadata": {},
   "outputs": [
    {
     "name": "stdout",
     "output_type": "stream",
     "text": [
      "[0, 4, 5, 6, 7, 9, 11]\n",
      "['aula', 'livro', 'roupa', 'caderno', 'faculdade']\n"
     ]
    }
   ],
   "source": [
    "a = [11, 9, 5, 7, 0, 6, 4]\n",
    "a.sort()\n",
    "print(a)\n",
    "\n",
    "b = ['aula', 'faculdade', 'livro', 'roupa', 'caderno']\n",
    "b.sort(key=len)\n",
    "print(b)"
   ]
  },
  {
   "cell_type": "code",
   "execution_count": 58,
   "metadata": {},
   "outputs": [
    {
     "name": "stdout",
     "output_type": "stream",
     "text": [
      "3\n",
      "1\n",
      "8\n",
      "[1, 2, 2, 3, 4, 5, 5, 5, 6, 7]\n"
     ]
    }
   ],
   "source": [
    "import bisect\n",
    "\n",
    "c = [1, 2, 2, 3, 4, 5, 5, 5, 7]\n",
    "\n",
    "print(bisect.bisect(c, 2))\n",
    "print(bisect.bisect(c, 1.01))\n",
    "print(bisect.bisect(c, 6))\n",
    "\n",
    "bisect.insort(c, 6)\n",
    "print(c)"
   ]
  },
  {
   "cell_type": "code",
   "execution_count": 59,
   "metadata": {},
   "outputs": [
    {
     "data": {
      "text/plain": [
       "{'copo': 0, 'prato': 1, 'colher': 2, 'sal': 3}"
      ]
     },
     "execution_count": 59,
     "metadata": {},
     "output_type": "execute_result"
    }
   ],
   "source": [
    "#enumerate\n",
    "lista4 = ['copo', 'prato', 'colher', 'sal']\n",
    "mapping = {}\n",
    "for i, v in enumerate(lista4):\n",
    "    mapping[v] = i\n",
    "    \n",
    "mapping"
   ]
  },
  {
   "cell_type": "code",
   "execution_count": 62,
   "metadata": {},
   "outputs": [
    {
     "name": "stdout",
     "output_type": "stream",
     "text": [
      "[0, 1, 2, 3, 4, 5, 6, 7, 9, 10, 12, 14]\n",
      "[' ', ' ', ' ', ' ', ' ', 'a', 'a', 'a', 'c', 'c', 'd', 'd', 'e', 'e', 'i', 'l', 'l', 'o', 'o', 'o', 'o', 'r', 'r', 'v', 'v', 'z', 'é']\n"
     ]
    }
   ],
   "source": [
    "lista5 = [7, 5, 10, 12, 0, 1, 2, 9, 6, 14, 3, 4]\n",
    "print(sorted(lista5))\n",
    "\n",
    "frase = 'o cavalo de corrida é veloz'\n",
    "print(sorted(frase))"
   ]
  },
  {
   "cell_type": "code",
   "execution_count": 74,
   "metadata": {},
   "outputs": [
    {
     "name": "stdout",
     "output_type": "stream",
     "text": [
      "[('coelho', 'bola'), ('peixe', 'camisa'), ('gato', 'girar')]\n",
      "[('coelho', 'bola', False), ('peixe', 'camisa', False), ('gato', 'girar', True)]\n",
      "0: coelho, bola\n",
      "1: peixe, camisa\n",
      "2: gato, girar\n",
      "('Carlos', 'Eduardo', 'Larissa')\n",
      "('Lopes', 'Salazer', 'Blaograno')\n"
     ]
    }
   ],
   "source": [
    "seq1 = ['coelho', 'peixe', 'gato']\n",
    "seq2 = ['bola', 'camisa', 'girar']\n",
    "\n",
    "zipped = zip(seq1, seq2)\n",
    "print(list(zipped))\n",
    "\n",
    "seq3 = [False, False, True]\n",
    "zipped = zip(seq1, seq2, seq3)\n",
    "\n",
    "print(list(zipped))\n",
    "\n",
    "for i, (a, b) in enumerate(zip(seq1, seq2)):\n",
    "    print('{0}: {1}, {2}'.format(i, a, b))\n",
    "    \n",
    "nomes = [('Carlos', 'Lopes'), \n",
    "         ('Eduardo', 'Salazar'), \n",
    "         ('Larissa', 'Blaograno')]\n",
    "\n",
    "primeiro_nome, segundo_nome = zip(*nomes)\n",
    "\n",
    "print(primeiro_nome)\n",
    "print(segundo_nome)"
   ]
  }
 ],
 "metadata": {
  "kernelspec": {
   "display_name": "Python 3",
   "language": "python",
   "name": "python3"
  },
  "language_info": {
   "codemirror_mode": {
    "name": "ipython",
    "version": 3
   },
   "file_extension": ".py",
   "mimetype": "text/x-python",
   "name": "python",
   "nbconvert_exporter": "python",
   "pygments_lexer": "ipython3",
   "version": "3.11.0"
  },
  "orig_nbformat": 4,
  "vscode": {
   "interpreter": {
    "hash": "c261aea317cc0286b3b3261fbba9abdec21eaa57589985bb7a274bf54d6cc0a7"
   }
  }
 },
 "nbformat": 4,
 "nbformat_minor": 2
}
