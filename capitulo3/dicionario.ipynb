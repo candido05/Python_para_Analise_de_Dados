{
 "cells": [
  {
   "cell_type": "code",
   "execution_count": 5,
   "metadata": {},
   "outputs": [
    {
     "name": "stdout",
     "output_type": "stream",
     "text": [
      "{'a': 'um valor', 'b': 3, 'c': [2, 4, 6, 8, 10, 12]}\n",
      "{'a': 'um valor', 'b': 3, 'c': [2, 4, 6, 8, 10, 12], 7: 'um inteiro'}\n",
      "[2, 4, 6, 8, 10, 12]\n"
     ]
    },
    {
     "data": {
      "text/plain": [
       "True"
      ]
     },
     "execution_count": 5,
     "metadata": {},
     "output_type": "execute_result"
    }
   ],
   "source": [
    "dic_vazio = {}\n",
    "d1 = {'a': 'um valor', 'b' : 3, 'c' : [2, 4, 6, 8, 10, 12]}\n",
    "print(d1)\n",
    "\n",
    "d1[7] = 'um inteiro'\n",
    "print(d1)\n",
    "print(d1['c'])\n",
    "\n",
    "'b' in d1"
   ]
  },
  {
   "cell_type": "code",
   "execution_count": 13,
   "metadata": {},
   "outputs": [
    {
     "name": "stdout",
     "output_type": "stream",
     "text": [
      "{'a': 'um valor', 'b': 3, 'c': [2, 4, 6, 8, 10, 12], 7: 'um inteiro', 5: 'um valor'}\n",
      "{'a': 'um valor', 'b': 3, 'c': [2, 4, 6, 8, 10, 12], 7: 'um inteiro'}\n",
      "um valor\n",
      "{'b': 3, 'c': [2, 4, 6, 8, 10, 12], 7: 'um inteiro'}\n",
      "['b', 'c', 7]\n",
      "[3, [2, 4, 6, 8, 10, 12], 'um inteiro']\n",
      "{'b': 3, 'c': [2, 4, 6, 8, 10, 12], 7: 'um inteiro', 'academia': 'supino', 'corrida': 'formula 1'}\n"
     ]
    }
   ],
   "source": [
    "d1 = {'a': 'um valor', 'b' : 3, 'c' : [2, 4, 6, 8, 10, 12]}\n",
    "d1[7] = 'um inteiro'\n",
    "\n",
    "d1[5] = 'um valor'\n",
    "print(d1)\n",
    "\n",
    "del d1[5]\n",
    "print(d1)\n",
    "\n",
    "ret = d1.pop('a')\n",
    "print(ret)\n",
    "print(d1)\n",
    "\n",
    "dk = list(d1.keys())\n",
    "print(dk)\n",
    "dv = list(d1.values())\n",
    "print(dv)\n",
    "\n",
    "d1.update({'academia': 'supino', 'corrida' : 'formula 1'})\n",
    "print(d1)"
   ]
  },
  {
   "cell_type": "code",
   "execution_count": 18,
   "metadata": {},
   "outputs": [
    {
     "name": "stdout",
     "output_type": "stream",
     "text": [
      "{'c': ['carro', 'caderno'], 'g': ['guitarra'], 'f': ['fruta'], 'p': ['peixe']}\n",
      "{'c': ['carro', 'caderno', 'carro', 'caderno'], 'g': ['guitarra', 'guitarra'], 'f': ['fruta', 'fruta'], 'p': ['peixe', 'peixe']}\n",
      "defaultdict(<class 'list'>, {'c': ['carro', 'caderno'], 'g': ['guitarra'], 'f': ['fruta'], 'p': ['peixe']})\n"
     ]
    }
   ],
   "source": [
    "from collections import defaultdict\n",
    "\n",
    "\n",
    "mapping = dict(zip(range(5), reversed(range(5))))\n",
    "mapping\n",
    "\n",
    "palavras = ['carro', 'guitarra', 'fruta', 'caderno', 'peixe']\n",
    "por_letra = {}\n",
    "\n",
    "for p in palavras:\n",
    "    letra = p[0]\n",
    "    if letra not in por_letra:\n",
    "        por_letra[letra] = [p]\n",
    "    else:\n",
    "        por_letra[letra].append(p)   \n",
    "        \n",
    "print(por_letra)\n",
    "\n",
    "for p in palavras:\n",
    "    letra = p[0]\n",
    "    por_letra.setdefault(letra, []).append(p)\n",
    "    \n",
    "print(por_letra)\n",
    "\n",
    "por_letra = defaultdict(list)\n",
    "for p in palavras:\n",
    "    por_letra[p[0]].append(p)\n",
    "\n",
    "print(por_letra)\n"
   ]
  }
 ],
 "metadata": {
  "kernelspec": {
   "display_name": "Python 3",
   "language": "python",
   "name": "python3"
  },
  "language_info": {
   "codemirror_mode": {
    "name": "ipython",
    "version": 3
   },
   "file_extension": ".py",
   "mimetype": "text/x-python",
   "name": "python",
   "nbconvert_exporter": "python",
   "pygments_lexer": "ipython3",
   "version": "3.11.0"
  },
  "orig_nbformat": 4,
  "vscode": {
   "interpreter": {
    "hash": "c261aea317cc0286b3b3261fbba9abdec21eaa57589985bb7a274bf54d6cc0a7"
   }
  }
 },
 "nbformat": 4,
 "nbformat_minor": 2
}
